{
 "cells": [
  {
   "cell_type": "code",
   "execution_count": null,
   "metadata": {
    "collapsed": false
   },
   "outputs": [],
   "source": [
    "import pandas as pd\n",
    "import numpy as np\n",
    "import folium\n",
    "import requests\n",
    "from requests.auth import HTTPBasicAuth\n",
    "import geopandas as gpd\n",
    "import apikey"
   ]
  },
  {
   "cell_type": "code",
   "execution_count": null,
   "metadata": {
    "collapsed": false
   },
   "outputs": [],
   "source": [
    "key = apikey.apikey\n",
    "request_url = \"http://citysdk.commerce.gov\"\n",
    "PR_COORDINATES = (18, -66.3)"
   ]
  },
  {
   "cell_type": "code",
   "execution_count": null,
   "metadata": {
    "collapsed": false
   },
   "outputs": [],
   "source": [
    "request_obj = {\n",
    "    \"level\": \"state\",\n",
    "    \"state\": \"PR\",\n",
    "    \"sublevel\": True,\n",
    "    \"variables\": [\n",
    "        \"B15003_002E\",\n",
    "        \"B15003_003E\",\n",
    "        \"B15003_004E\",\n",
    "        \"B15003_005E\",\n",
    "        \"B15003_006E\",\n",
    "        \"B15003_007E\",\n",
    "        \"B15003_008E\",\n",
    "        \"B15003_009E\",\n",
    "        \"B15003_010E\",\n",
    "        \"B15003_011E\",\n",
    "        \"B15003_012E\",\n",
    "        \"B15003_013E\",\n",
    "        \"B15003_014E\",\n",
    "        \"B15003_015E\",\n",
    "        \"B15003_016E\",\n",
    "        \"education_associates\",\n",
    "        \"education_bachelors\",\n",
    "        \"education_doctorate\",\n",
    "        \"education_ged\",\n",
    "        \"education_high_school\",\n",
    "        \"education_masters\",\n",
    "        \"education_professional\"\n",
    "    ],\n",
    "    \"api\": \"acs5\",\n",
    "    \"year\": \"2014\"\n",
    "}"
   ]
  },
  {
   "cell_type": "code",
   "execution_count": null,
   "metadata": {
    "collapsed": false
   },
   "outputs": [],
   "source": [
    "response = requests.post(request_url, auth=HTTPBasicAuth(key, None), json=request_obj)\n",
    "\n",
    "#print (response.json())"
   ]
  },
  {
   "cell_type": "code",
   "execution_count": null,
   "metadata": {
    "collapsed": false
   },
   "outputs": [],
   "source": [
    "f = open('ed.json', 'wb')\n",
    "f.write(response.text.encode('utf-8'))\n",
    "f.close()"
   ]
  },
  {
   "cell_type": "code",
   "execution_count": null,
   "metadata": {
    "collapsed": false
   },
   "outputs": [],
   "source": [
    "munidata = gpd.read_file('ed.json')"
   ]
  },
  {
   "cell_type": "code",
   "execution_count": null,
   "metadata": {
    "collapsed": false
   },
   "outputs": [],
   "source": [
    "munidata['B15003_002E']"
   ]
  },
  {
   "cell_type": "code",
   "execution_count": null,
   "metadata": {
    "collapsed": false
   },
   "outputs": [],
   "source": [
    "munidata['B15003_003E']"
   ]
  },
  {
   "cell_type": "code",
   "execution_count": null,
   "metadata": {
    "collapsed": false
   },
   "outputs": [],
   "source": [
    "munidata['B15003_002E'] = munidata['B15003_002E'].apply(int)\n",
    "munidata['B15003_003E'] = munidata['B15003_003E'].apply(int)\n",
    "munidata['B15003_004E'] = munidata['B15003_004E'].apply(int)\n",
    "munidata['B15003_005E'] = munidata['B15003_005E'].apply(int)\n",
    "munidata['B15003_006E'] = munidata['B15003_006E'].apply(int)\n",
    "munidata['B15003_007E'] = munidata['B15003_007E'].apply(int)\n",
    "munidata['B15003_008E'] = munidata['B15003_008E'].apply(int)\n",
    "munidata['B15003_009E'] = munidata['B15003_009E'].apply(int)\n",
    "munidata['B15003_010E'] = munidata['B15003_010E'].apply(int)\n",
    "munidata['B15003_011E'] = munidata['B15003_011E'].apply(int)\n",
    "munidata['B15003_012E'] = munidata['B15003_012E'].apply(int)\n",
    "munidata['B15003_013E'] = munidata['B15003_013E'].apply(int)\n",
    "munidata['B15003_014E'] = munidata['B15003_014E'].apply(int)\n",
    "munidata['B15003_015E'] = munidata['B15003_015E'].apply(int)\n",
    "munidata['B15003_016E'] = munidata['B15003_016E'].apply(int)\n",
    "munidata['B15003_017E'] = munidata['B15003_017E'].apply(int)\n",
    "munidata['B15003_018E'] = munidata['B15003_018E'].apply(int)\n",
    "munidata['B15003_021E'] = munidata['B15003_021E'].apply(int)\n",
    "munidata['B15003_022E'] = munidata['B15003_022E'].apply(int)\n",
    "munidata['B15003_023E'] = munidata['B15003_023E'].apply(int)\n",
    "munidata['B15003_024E'] = munidata['B15003_024E'].apply(int)\n",
    "munidata['B15003_025E'] = munidata['B15003_025E'].apply(int)\n",
    "\n",
    "\n",
    "type(munidata['B15003_017E'].iloc[1])"
   ]
  },
  {
   "cell_type": "code",
   "execution_count": null,
   "metadata": {
    "collapsed": false
   },
   "outputs": [],
   "source": [
    "munidata['HS_GED_SUM'] = munidata['B15003_017E'] + munidata['B15003_018E']\n",
    "munidata['LESS_THAN_GED'] = munidata['B15003_002E'] + munidata['B15003_003E'] + munidata['B15003_004E'] + munidata['B15003_005E'] + munidata['B15003_006E'] + munidata['B15003_007E'] + munidata['B15003_008E'] + munidata['B15003_009E'] + munidata['B15003_010E'] + munidata['B15003_011E'] + munidata['B15003_012E'] + munidata['B15003_013E'] + munidata['B15003_014E'] + munidata['B15003_015E'] + munidata['B15003_016E']"
   ]
  },
  {
   "cell_type": "code",
   "execution_count": null,
   "metadata": {
    "collapsed": false
   },
   "outputs": [],
   "source": [
    "munidata['HS_GED_SUM']"
   ]
  },
  {
   "cell_type": "code",
   "execution_count": null,
   "metadata": {
    "collapsed": false
   },
   "outputs": [],
   "source": [
    "mapa0 = folium.Map(location=PR_COORDINATES, zoom_start=9)\n",
    "\n",
    "mapa0.choropleth(\n",
    "    geo_str=munidata.to_json(),    data=munidata,\n",
    "    columns=['BASENAME', 'LESS_THAN_GED'],\n",
    "    key_on='feature.properties.BASENAME',\n",
    "    fill_color='YlOrRd',\n",
    "    legend_name='Less that GED Quantity',\n",
    "    )\n",
    "\n",
    "mapa0"
   ]
  },
  {
   "cell_type": "code",
   "execution_count": null,
   "metadata": {
    "collapsed": false
   },
   "outputs": [],
   "source": [
    "mapa1 = folium.Map(location=PR_COORDINATES, zoom_start=9)\n",
    "\n",
    "mapa1.choropleth(\n",
    "    geo_str=munidata.to_json(),    data=munidata,\n",
    "    columns=['BASENAME', 'HS_GED_SUM'],\n",
    "    key_on='feature.properties.BASENAME',\n",
    "    fill_color='YlOrRd',\n",
    "    legend_name='HS/GED Quantity',\n",
    "    )\n",
    "\n"
   ]
  },
  {
   "cell_type": "code",
   "execution_count": null,
   "metadata": {
    "collapsed": false,
    "scrolled": true
   },
   "outputs": [],
   "source": [
    "mapa1"
   ]
  },
  {
   "cell_type": "code",
   "execution_count": null,
   "metadata": {
    "collapsed": false
   },
   "outputs": [],
   "source": [
    "mapa2 = folium.Map(location=PR_COORDINATES, zoom_start=9)\n",
    "\n",
    "mapa2.choropleth(\n",
    "    geo_str=munidata.to_json(),    data=munidata,\n",
    "    columns=['BASENAME', 'B15003_021E'],\n",
    "    key_on='feature.properties.BASENAME',\n",
    "    fill_color='YlOrRd',\n",
    "    legend_name='Associate Degree Quantity',\n",
    "    )\n",
    "\n",
    "mapa2"
   ]
  },
  {
   "cell_type": "code",
   "execution_count": null,
   "metadata": {
    "collapsed": false
   },
   "outputs": [],
   "source": [
    "mapa3 = folium.Map(location=PR_COORDINATES, zoom_start=9)\n",
    "\n",
    "mapa3.choropleth(\n",
    "    geo_str=munidata.to_json(),    data=munidata,\n",
    "    columns=['BASENAME', 'B15003_022E'],\n",
    "    key_on='feature.properties.BASENAME',\n",
    "    fill_color='YlOrRd',\n",
    "    legend_name='Bachelor Degree Quantity',\n",
    "    )\n",
    "\n",
    "mapa3"
   ]
  },
  {
   "cell_type": "code",
   "execution_count": null,
   "metadata": {
    "collapsed": false
   },
   "outputs": [],
   "source": [
    "mapa4 = folium.Map(location=PR_COORDINATES, zoom_start=9)\n",
    "\n",
    "mapa4.choropleth(\n",
    "    geo_str=munidata.to_json(),    data=munidata,\n",
    "    columns=['BASENAME', 'B15003_023E'],\n",
    "    key_on='feature.properties.BASENAME',\n",
    "    fill_color='YlOrRd',\n",
    "    legend_name='Master Degree Quantity',\n",
    "    )\n",
    "\n",
    "mapa4"
   ]
  },
  {
   "cell_type": "code",
   "execution_count": null,
   "metadata": {
    "collapsed": false
   },
   "outputs": [],
   "source": [
    "mapa5 = folium.Map(location=PR_COORDINATES, zoom_start=9)\n",
    "\n",
    "mapa5.choropleth(\n",
    "    geo_str=munidata.to_json(),    data=munidata,\n",
    "    columns=['BASENAME', 'B15003_024E'],\n",
    "    key_on='feature.properties.BASENAME',\n",
    "    fill_color='YlOrRd',\n",
    "    legend_name='Professional Degree Quantity',\n",
    "    )\n",
    "\n",
    "mapa5"
   ]
  },
  {
   "cell_type": "code",
   "execution_count": null,
   "metadata": {
    "collapsed": false
   },
   "outputs": [],
   "source": [
    "mapa6 = folium.Map(location=PR_COORDINATES, zoom_start=9)\n",
    "\n",
    "mapa6.choropleth(\n",
    "    geo_str=munidata.to_json(),    data=munidata,\n",
    "    columns=['BASENAME', 'B15003_025E'],\n",
    "    key_on='feature.properties.BASENAME',\n",
    "    fill_color='YlOrRd',\n",
    "    legend_name='Doctorate Degree Quantity',\n",
    "    )\n",
    "\n",
    "mapa6"
   ]
  }
 ],
 "metadata": {
  "anaconda-cloud": {},
  "kernelspec": {
   "display_name": "Python [default]",
   "language": "python",
   "name": "python3"
  },
  "language_info": {
   "codemirror_mode": {
    "name": "ipython",
    "version": 3
   },
   "file_extension": ".py",
   "mimetype": "text/x-python",
   "name": "python",
   "nbconvert_exporter": "python",
   "pygments_lexer": "ipython3",
   "version": "3.5.2"
  }
 },
 "nbformat": 4,
 "nbformat_minor": 1
}
